{
  "nbformat": 4,
  "nbformat_minor": 0,
  "metadata": {
    "colab": {
      "provenance": []
    },
    "kernelspec": {
      "name": "python3",
      "display_name": "Python 3"
    },
    "language_info": {
      "name": "python"
    }
  },
  "cells": [
    {
      "cell_type": "code",
      "execution_count": null,
      "metadata": {
        "id": "NqWZYK0S50EN"
      },
      "outputs": [],
      "source": [
        "import numpy as np\n",
        "\n",
        "# Generate random input data X and target output y\n",
        "np.random.seed(42) # For reproducibility\n",
        "X = np.random.rand(100, 1) # 100 data points\n",
        "y = np.where(X > 0.5, 1, 0) # Target output"
      ]
    },
    {
      "cell_type": "code",
      "source": [
        "def sigmoid(z):\n",
        "    # Compute the sigmoid of z\n",
        "    return 1 / (1 + np.exp(-z))"
      ],
      "metadata": {
        "id": "hGYHvxUg57EW"
      },
      "execution_count": null,
      "outputs": []
    },
    {
      "cell_type": "code",
      "source": [
        "def loss_function(y, yhat):\n",
        "    # Calculate the mean square error\n",
        "    return ((y - yhat) ** 2).mean()"
      ],
      "metadata": {
        "id": "lI6D58Az58RR"
      },
      "execution_count": null,
      "outputs": []
    },
    {
      "cell_type": "code",
      "source": [
        "def compute_gradient(X, y, yhat):\n",
        "    # Compute gradients dw (for weights) and db (for bias)\n",
        "    dw = np.dot(X.T, (yhat - y)) / y.size\n",
        "    db = np.sum(yhat - y) / y.size\n",
        "    return dw, db"
      ],
      "metadata": {
        "id": "ZwsQRVsN59NJ"
      },
      "execution_count": null,
      "outputs": []
    },
    {
      "cell_type": "code",
      "source": [
        "def train(X, y, iterations, lr):\n",
        "    # Initialize weights and bias to zero\n",
        "    w = np.zeros((X.shape[1], 1))\n",
        "    b = 0\n",
        "    losses = []\n",
        "\n",
        "    for i in range(iterations):\n",
        "        # Forward pass\n",
        "        z = np.dot(X, w) + b\n",
        "        yhat = sigmoid(z)\n",
        "\n",
        "        # Compute loss\n",
        "        loss = loss_function(y, yhat)\n",
        "        losses.append(loss)\n",
        "\n",
        "        # Backward pass (compute gradients)\n",
        "        dw, db = compute_gradient(X, y, yhat)\n",
        "\n",
        "        # Update parameters\n",
        "        w -= lr * dw\n",
        "        b -= lr * db\n",
        "\n",
        "    return w, b, losses"
      ],
      "metadata": {
        "id": "fYheiwFk5-UP"
      },
      "execution_count": null,
      "outputs": []
    },
    {
      "cell_type": "code",
      "source": [
        "def predict(X, w, b):\n",
        "    # Make predictions using learned weights and bias\n",
        "    z = np.dot(X, w) + b\n",
        "    yhat = sigmoid(z)\n",
        "    return yhat"
      ],
      "metadata": {
        "id": "qkuPLccU5_vF"
      },
      "execution_count": null,
      "outputs": []
    },
    {
      "cell_type": "code",
      "source": [
        "# Train the model\n",
        "w, b, losses = train(X, y, iterations=1000, lr=0.1)"
      ],
      "metadata": {
        "id": "ZYYL0uML6CUw"
      },
      "execution_count": null,
      "outputs": []
    },
    {
      "cell_type": "code",
      "source": [
        "# Predict\n",
        "yhat = predict(X, w, b)"
      ],
      "metadata": {
        "id": "merHD9Er9zK7"
      },
      "execution_count": null,
      "outputs": []
    },
    {
      "cell_type": "code",
      "source": [
        "import matplotlib.pyplot as plt\n",
        "\n",
        "# Plot actual vs predicted values\n",
        "plt.scatter(X, y, label='Actual')\n",
        "plt.scatter(X, yhat, label='Predicted', color='red')\n",
        "plt.legend()\n",
        "plt.show()"
      ],
      "metadata": {
        "colab": {
          "base_uri": "https://localhost:8080/",
          "height": 430
        },
        "id": "-t3IgQvD9x-z",
        "outputId": "a3a2d233-f7bc-49b9-c1c9-9c0f802c65f4"
      },
      "execution_count": null,
      "outputs": [
        {
          "output_type": "display_data",
          "data": {
            "text/plain": [
              "<Figure size 640x480 with 1 Axes>"
            ],
            "image/png": "[encoded data removed]"
          },
          "metadata": {}
        }
      ]
    },
    {
      "cell_type": "code",
      "source": [],
      "metadata": {
        "id": "T4GfqKDV90xf"
      },
      "execution_count": null,
      "outputs": []
    }
  ]
}