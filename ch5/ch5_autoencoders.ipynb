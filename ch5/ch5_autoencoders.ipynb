{
  "nbformat": 4,
  "nbformat_minor": 0,
  "metadata": {
    "colab": {
      "provenance": [],
      "toc_visible": true
    },
    "kernelspec": {
      "name": "python3",
      "display_name": "Python 3"
    },
    "language_info": {
      "name": "python"
    }
  },
  "cells": [
    {
      "cell_type": "markdown",
      "source": [
        "## Autoencoder\n",
        "\n",
        "<p align='center'>\n",
        "  <img src=\"https://blog.keras.io/img/ae/autoencoder_schema.jpg\" width=600></img>\n",
        "</p>\n",
        "\n",
        "\"Autoencoding\" is a data compression algorithm where the compression and decompression functions are 1) data-specific, 2) lossy, and 3) learned automatically from examples rather than engineered by a human. Additionally, in almost all contexts where the term \"autoencoder\" is used, the compression and decompression functions are implemented with neural networks.\n",
        "\n",
        "1) Autoencoders are data-specific, which means that they will only be able to compress data similar to what they have been trained on. This is different from, say, the MPEG-2 Audio Layer III (MP3) compression algorithm, which only holds assumptions about \"sound\" in general, but not about specific types of sounds. An autoencoder trained on pictures of faces would do a rather poor job of compressing pictures of trees, because the features it would learn would be face-specific.\n",
        "\n",
        "2) Autoencoders are lossy, which means that the decompressed outputs will be degraded compared to the original inputs (similar to MP3 or JPEG compression). This differs from lossless arithmetic compression.\n",
        "\n",
        "3) Autoencoders are learned automatically from data examples, which is a useful property: it means that it is easy to train specialized instances of the algorithm that will perform well on a specific type of input. It doesn't require any new engineering, just appropriate training data.\n",
        "\n",
        "To build an autoencoder, you need three things: an encoding function, a decoding function, and a distance function between the amount of information loss between the compressed representation of your data and the decompressed representation (i.e. a \"loss\" function). The encoder and decoder will be chosen to be parametric functions (typically neural networks), and to be differentiable with respect to the distance function, so the parameters of the encoding/decoding functions can be optimize to minimize the reconstruction loss, using Stochastic Gradient Descent. It's simple! And you don't even need to understand any of these words to start using autoencoders in practice.\n",
        "\n",
        "A more detailed illustration is below\n",
        "\n",
        "<p align='center'>\n",
        "  <img src='https://miro.medium.com/max/1400/0*_K4yRm8ILDZ02vPq.png' width=600></img>\n",
        "</p>\n",
        "\n",
        "The loss function to train such a neural network is the following\n",
        "$$\\mathcal{L}(\\theta, \\phi) = \\frac{1}{n} \\sum_{i=1}^n (x_i - f_{\\theta}(g_{\\phi}(x_i)))^2$$\n",
        "\n",
        "As seen above, the loss function depends on $\\theta$ and $\\phi$ which are the parameters that define the encoder and the decoder. From the autoencoder image above, the encoder is represented by $G_{\\phi}$, while the decoder is represented by $f_{\\theta}$ and they simply mean the weights and bias of the neural network. So in the equation, we are summing up the difference between the original image, $x$, and the reconstructed image $f_{\\theta}(g_{\\phi}(x'))$.\n",
        "\n",
        "This is called a `unsupervised` model. It means that there is no `target` or `y` in the model. We only need `x`.\n",
        "\n",
        "The original paper is [here](https://arxiv.org/abs/1312.6114).\n",
        "\n",
        "\n"
      ],
      "metadata": {
        "id": "iGhCxXl5o-ja"
      }
    },
    {
      "cell_type": "markdown",
      "source": [
        "### Setup\n",
        "\n",
        "We'll start simple, with a single fully-connected neural layer as encoder and as decoder:"
      ],
      "metadata": {
        "id": "0BJO-ehH00As"
      }
    },
    {
      "cell_type": "markdown",
      "source": [
        "### Encoder"
      ],
      "metadata": {
        "id": "P3RSyGCFmRD0"
      }
    },
    {
      "cell_type": "code",
      "execution_count": null,
      "metadata": {
        "id": "w7hyJnu60USA"
      },
      "outputs": [],
      "source": [
        "# import\n",
        "import keras\n",
        "from keras import layers\n",
        "\n",
        "# This is the size of our encoded representations\n",
        "encoding_dim = 32  # 32 floats -> compression of factor 24.5, assuming the input is 784 floats\n",
        "\n",
        "# here we use functional API and recall in our program we introduced sequential API\n",
        "# sequential API (basic): each dense layer is hard coded layer by layer and you cannot break it apart\n",
        "# functional API (advanced): each dense layer is soft coded and you can break it apart anywhere in the network model\n",
        "# ex: x -> f(): f(x) this is a function\n",
        "\n",
        "# This is our input image\n",
        "input_img = keras.Input(shape=(784,))\n",
        "# \"encoded\" is the encoded representation of the input\n",
        "encoded = layers.Dense(encoding_dim, activation='relu')(input_img)\n",
        "# \"decoded\" is the lossy reconstruction of the input\n",
        "decoded = layers.Dense(784, activation='sigmoid')(encoded)\n",
        "\n",
        "# comment: notice the design, the number of layers is [784, 32, 784]\n",
        "#          encode layer(s): 784 -> 32 -> 16 -> 2 (this has to decrease)\n",
        "#          decode layer(s): 2 -> 16 -> 32 -> 784 (this has to increase)\n",
        "#          otherwise it won't be called autoencoder\n",
        "\n",
        "# benefit/motivation:\n",
        "#    (1) the output layer has 784 neurons, which can be rearranged to 28 by 28 which is an image\n",
        "#    (2) the compressed hidden layer in the middle is called a latent layer, and it is linearly classifiable\n",
        "\n",
        "# This model maps an input to its reconstruction\n",
        "autoencoder = keras.Model(input_img, decoded)"
      ]
    },
    {
      "cell_type": "markdown",
      "source": [
        "Let's also create a separate encoder model:"
      ],
      "metadata": {
        "id": "w4yjtNJq01uQ"
      }
    },
    {
      "cell_type": "code",
      "source": [
        "# This model maps an input to its encoded representation\n",
        "encoder = keras.Model(input_img, encoded)"
      ],
      "metadata": {
        "id": "7VaRBrMF0jqL"
      },
      "execution_count": null,
      "outputs": []
    },
    {
      "cell_type": "markdown",
      "source": [
        "### Decoder\n",
        "\n",
        "As well as the decoder model:"
      ],
      "metadata": {
        "id": "BzxN6brP03Q2"
      }
    },
    {
      "cell_type": "code",
      "source": [
        "# This is our encoded (32-dimensional) input\n",
        "encoded_input = keras.Input(shape=(encoding_dim,))\n",
        "# Retrieve the last layer of the autoencoder model\n",
        "decoder_layer = autoencoder.layers[-1]\n",
        "# Create the decoder model\n",
        "decoder = keras.Model(encoded_input, decoder_layer(encoded_input))"
      ],
      "metadata": {
        "id": "sdBJPGHI0kIj"
      },
      "execution_count": null,
      "outputs": []
    },
    {
      "cell_type": "markdown",
      "source": [
        "Now let's train our autoencoder to reconstruct MNIST digits.\n",
        "\n",
        "First, we'll configure our model to use a per-pixel binary crossentropy loss, and the Adam optimizer:"
      ],
      "metadata": {
        "id": "YiOx-Qtr05Fj"
      }
    },
    {
      "cell_type": "code",
      "source": [
        "# configure\n",
        "autoencoder.compile(optimizer='adam', loss='binary_crossentropy')"
      ],
      "metadata": {
        "id": "O6hXTm7q0lZr"
      },
      "execution_count": null,
      "outputs": []
    },
    {
      "cell_type": "code",
      "source": [
        "import tensorflow as tf"
      ],
      "metadata": {
        "id": "cN5oHlNwrdth"
      },
      "execution_count": null,
      "outputs": []
    },
    {
      "cell_type": "code",
      "source": [
        "tf.keras.utils.plot_model(autoencoder, show_shapes=True)"
      ],
      "metadata": {
        "colab": {
          "base_uri": "https://localhost:8080/",
          "height": 312
        },
        "id": "o9WpNkB3rjTU",
        "outputId": "95057cc9-2127-4b18-879e-67bdfe4355db"
      },
      "execution_count": null,
      "outputs": [
        {
          "output_type": "execute_result",
          "data": {
            "image/png": "[encoded data removed]",
            "text/plain": [
              "<IPython.core.display.Image object>"
            ]
          },
          "metadata": {},
          "execution_count": 12
        }
      ]
    },
    {
      "cell_type": "markdown",
      "source": [
        "Let's prepare our input data. We're using MNIST digits, and we're discarding the labels (since we're only interested in encoding/decoding the input images)."
      ],
      "metadata": {
        "id": "V2EjeX1v06r4"
      }
    },
    {
      "cell_type": "code",
      "source": [
        "# data\n",
        "from keras.datasets import mnist\n",
        "import numpy as np\n",
        "(x_train, _), (x_test, _) = mnist.load_data()"
      ],
      "metadata": {
        "colab": {
          "base_uri": "https://localhost:8080/"
        },
        "id": "chD4cZ6q0mzq",
        "outputId": "fdda64fc-b70a-4aa6-ce7a-93eb91f977c3"
      },
      "execution_count": null,
      "outputs": [
        {
          "output_type": "stream",
          "name": "stdout",
          "text": [
            "Downloading data from https://storage.googleapis.com/tensorflow/tf-keras-datasets/mnist.npz\n",
            "11493376/11490434 [==============================] - 0s 0us/step\n",
            "11501568/11490434 [==============================] - 0s 0us/step\n"
          ]
        }
      ]
    },
    {
      "cell_type": "markdown",
      "source": [
        "### Rescale\n",
        "\n",
        "We will normalize all values between 0 and 1 and we will flatten the 28x28 images into vectors of size 784."
      ],
      "metadata": {
        "id": "WSoOnASB08RV"
      }
    },
    {
      "cell_type": "code",
      "source": [
        "# process and normalize\n",
        "x_train = x_train.astype('float32') / 255.\n",
        "x_test = x_test.astype('float32') / 255.\n",
        "x_train = x_train.reshape((len(x_train), np.prod(x_train.shape[1:])))\n",
        "x_test = x_test.reshape((len(x_test), np.prod(x_test.shape[1:])))\n",
        "print(x_train.shape)\n",
        "print(x_test.shape)"
      ],
      "metadata": {
        "colab": {
          "base_uri": "https://localhost:8080/"
        },
        "id": "zZUHQNHE0oPS",
        "outputId": "64a53b4d-edfb-4804-edcc-f9aec76c8b7d"
      },
      "execution_count": null,
      "outputs": [
        {
          "output_type": "stream",
          "name": "stdout",
          "text": [
            "(60000, 784)\n",
            "(10000, 784)\n"
          ]
        }
      ]
    },
    {
      "cell_type": "markdown",
      "source": [
        "### Train"
      ],
      "metadata": {
        "id": "sl5auPekmbf0"
      }
    },
    {
      "cell_type": "markdown",
      "source": [
        "```\n",
        "model.fit(\n",
        "    x=x_train,\n",
        "    y=x_train,\n",
        "    ...\n",
        ")\n",
        "```"
      ],
      "metadata": {
        "id": "A0chrJBUrSzX"
      }
    },
    {
      "cell_type": "code",
      "source": [
        "# model\n",
        "autoencoder.fit(x_train, x_train,\n",
        "                epochs=50,\n",
        "                batch_size=256,\n",
        "                shuffle=True,\n",
        "                validation_data=(x_test, x_test))"
      ],
      "metadata": {
        "colab": {
          "base_uri": "https://localhost:8080/"
        },
        "id": "rpKoyIGA0qPe",
        "outputId": "525bd20d-5436-4108-ddb4-248db3485653"
      },
      "execution_count": null,
      "outputs": [
        {
          "output_type": "stream",
          "name": "stdout",
          "text": [
            "Epoch 1/50\n",
            "235/235 [==============================] - 3s 10ms/step - loss: 0.2808 - val_loss: 0.1921\n",
            "Epoch 2/50\n",
            "235/235 [==============================] - 2s 10ms/step - loss: 0.1719 - val_loss: 0.1549\n",
            "Epoch 3/50\n",
            "235/235 [==============================] - 3s 13ms/step - loss: 0.1454 - val_loss: 0.1347\n",
            "Epoch 4/50\n",
            "235/235 [==============================] - 3s 14ms/step - loss: 0.1293 - val_loss: 0.1219\n",
            "Epoch 5/50\n",
            "235/235 [==============================] - 2s 10ms/step - loss: 0.1189 - val_loss: 0.1139\n",
            "Epoch 6/50\n",
            "235/235 [==============================] - 2s 10ms/step - loss: 0.1119 - val_loss: 0.1077\n",
            "Epoch 7/50\n",
            "235/235 [==============================] - 2s 10ms/step - loss: 0.1068 - val_loss: 0.1034\n",
            "Epoch 8/50\n",
            "235/235 [==============================] - 3s 14ms/step - loss: 0.1028 - val_loss: 0.1001\n",
            "Epoch 9/50\n",
            "235/235 [==============================] - 2s 10ms/step - loss: 0.0999 - val_loss: 0.0975\n",
            "Epoch 10/50\n",
            "235/235 [==============================] - 2s 10ms/step - loss: 0.0979 - val_loss: 0.0958\n",
            "Epoch 11/50\n",
            "235/235 [==============================] - 2s 9ms/step - loss: 0.0965 - val_loss: 0.0948\n",
            "Epoch 12/50\n",
            "235/235 [==============================] - 2s 9ms/step - loss: 0.0956 - val_loss: 0.0940\n",
            "Epoch 13/50\n",
            "235/235 [==============================] - 2s 9ms/step - loss: 0.0951 - val_loss: 0.0936\n",
            "Epoch 14/50\n",
            "235/235 [==============================] - 2s 10ms/step - loss: 0.0947 - val_loss: 0.0933\n",
            "Epoch 15/50\n",
            "235/235 [==============================] - 2s 9ms/step - loss: 0.0944 - val_loss: 0.0930\n",
            "Epoch 16/50\n",
            "235/235 [==============================] - 2s 9ms/step - loss: 0.0942 - val_loss: 0.0928\n",
            "Epoch 17/50\n",
            "235/235 [==============================] - 2s 9ms/step - loss: 0.0940 - val_loss: 0.0927\n",
            "Epoch 18/50\n",
            "235/235 [==============================] - 2s 9ms/step - loss: 0.0938 - val_loss: 0.0926\n",
            "Epoch 19/50\n",
            "235/235 [==============================] - 2s 9ms/step - loss: 0.0937 - val_loss: 0.0925\n",
            "Epoch 20/50\n",
            "235/235 [==============================] - 2s 10ms/step - loss: 0.0936 - val_loss: 0.0924\n",
            "Epoch 21/50\n",
            "235/235 [==============================] - 2s 10ms/step - loss: 0.0935 - val_loss: 0.0923\n",
            "Epoch 22/50\n",
            "235/235 [==============================] - 2s 10ms/step - loss: 0.0935 - val_loss: 0.0923\n",
            "Epoch 23/50\n",
            "235/235 [==============================] - 2s 10ms/step - loss: 0.0934 - val_loss: 0.0921\n",
            "Epoch 24/50\n",
            "235/235 [==============================] - 2s 9ms/step - loss: 0.0933 - val_loss: 0.0922\n",
            "Epoch 25/50\n",
            "235/235 [==============================] - 2s 10ms/step - loss: 0.0933 - val_loss: 0.0921\n",
            "Epoch 26/50\n",
            "235/235 [==============================] - 2s 10ms/step - loss: 0.0932 - val_loss: 0.0921\n",
            "Epoch 27/50\n",
            "235/235 [==============================] - 2s 10ms/step - loss: 0.0932 - val_loss: 0.0921\n",
            "Epoch 28/50\n",
            "235/235 [==============================] - 2s 9ms/step - loss: 0.0931 - val_loss: 0.0921\n",
            "Epoch 29/50\n",
            "235/235 [==============================] - 2s 10ms/step - loss: 0.0931 - val_loss: 0.0920\n",
            "Epoch 30/50\n",
            "235/235 [==============================] - 2s 10ms/step - loss: 0.0931 - val_loss: 0.0919\n",
            "Epoch 31/50\n",
            "235/235 [==============================] - 2s 10ms/step - loss: 0.0930 - val_loss: 0.0920\n",
            "Epoch 32/50\n",
            "235/235 [==============================] - 2s 10ms/step - loss: 0.0930 - val_loss: 0.0919\n",
            "Epoch 33/50\n",
            "235/235 [==============================] - 2s 10ms/step - loss: 0.0930 - val_loss: 0.0918\n",
            "Epoch 34/50\n",
            "235/235 [==============================] - 2s 10ms/step - loss: 0.0929 - val_loss: 0.0918\n",
            "Epoch 35/50\n",
            "235/235 [==============================] - 2s 10ms/step - loss: 0.0929 - val_loss: 0.0918\n",
            "Epoch 36/50\n",
            "235/235 [==============================] - 2s 10ms/step - loss: 0.0929 - val_loss: 0.0918\n",
            "Epoch 37/50\n",
            "235/235 [==============================] - 2s 9ms/step - loss: 0.0929 - val_loss: 0.0918\n",
            "Epoch 38/50\n",
            "235/235 [==============================] - 2s 9ms/step - loss: 0.0929 - val_loss: 0.0918\n",
            "Epoch 39/50\n",
            "235/235 [==============================] - 2s 9ms/step - loss: 0.0928 - val_loss: 0.0917\n",
            "Epoch 40/50\n",
            "235/235 [==============================] - 2s 9ms/step - loss: 0.0928 - val_loss: 0.0918\n",
            "Epoch 41/50\n",
            "235/235 [==============================] - 2s 10ms/step - loss: 0.0928 - val_loss: 0.0917\n",
            "Epoch 42/50\n",
            "235/235 [==============================] - 2s 9ms/step - loss: 0.0928 - val_loss: 0.0917\n",
            "Epoch 43/50\n",
            "235/235 [==============================] - 2s 10ms/step - loss: 0.0928 - val_loss: 0.0917\n",
            "Epoch 44/50\n",
            "235/235 [==============================] - 2s 10ms/step - loss: 0.0927 - val_loss: 0.0916\n",
            "Epoch 45/50\n",
            "235/235 [==============================] - 2s 9ms/step - loss: 0.0927 - val_loss: 0.0917\n",
            "Epoch 46/50\n",
            "235/235 [==============================] - 2s 9ms/step - loss: 0.0927 - val_loss: 0.0917\n",
            "Epoch 47/50\n",
            "235/235 [==============================] - 2s 9ms/step - loss: 0.0927 - val_loss: 0.0916\n",
            "Epoch 48/50\n",
            "235/235 [==============================] - 2s 9ms/step - loss: 0.0927 - val_loss: 0.0916\n",
            "Epoch 49/50\n",
            "235/235 [==============================] - 2s 9ms/step - loss: 0.0927 - val_loss: 0.0916\n",
            "Epoch 50/50\n",
            "235/235 [==============================] - 2s 9ms/step - loss: 0.0927 - val_loss: 0.0916\n"
          ]
        },
        {
          "output_type": "execute_result",
          "data": {
            "text/plain": [
              "<keras.callbacks.History at 0x7fd310bbf590>"
            ]
          },
          "metadata": {},
          "execution_count": 8
        }
      ]
    },
    {
      "cell_type": "code",
      "source": [
        "# Encode and decode some digits\n",
        "# Note that we take them from the *test* set\n",
        "encoded_imgs = encoder.predict(x_test)\n",
        "decoded_imgs = decoder.predict(encoded_imgs)"
      ],
      "metadata": {
        "id": "TUhxIQ0n0seA"
      },
      "execution_count": null,
      "outputs": []
    },
    {
      "cell_type": "code",
      "source": [
        "# Use Matplotlib (don't ask)\n",
        "import matplotlib.pyplot as plt\n",
        "\n",
        "n = 10  # How many digits we will display\n",
        "plt.figure(figsize=(20, 4))\n",
        "for i in range(n):\n",
        "    # Display original\n",
        "    ax = plt.subplot(2, n, i + 1)\n",
        "    plt.imshow(x_test[i].reshape(28, 28))\n",
        "    plt.gray()\n",
        "    ax.get_xaxis().set_visible(False)\n",
        "    ax.get_yaxis().set_visible(False)\n",
        "\n",
        "    # Display reconstruction\n",
        "    ax = plt.subplot(2, n, i + 1 + n)\n",
        "    plt.imshow(decoded_imgs[i].reshape(28, 28))\n",
        "    plt.gray()\n",
        "    ax.get_xaxis().set_visible(False)\n",
        "    ax.get_yaxis().set_visible(False)\n",
        "plt.show()"
      ],
      "metadata": {
        "colab": {
          "base_uri": "https://localhost:8080/"
        },
        "id": "822iBWbp0wEs",
        "outputId": "463d581d-d245-4af8-9a74-faa93088fe24"
      },
      "execution_count": null,
      "outputs": [
        {
          "output_type": "display_data",
          "data": {
            "text/plain": [
              "<Figure size 1440x288 with 20 Axes>"
            ],
            "image/png": "[encoded data removed]"
          },
          "metadata": {
            "needs_background": "light"
          }
        }
      ]
    },
    {
      "cell_type": "markdown",
      "source": [
        "## Deep autoencoder\n",
        "\n",
        "We do not have to limit ourselves to a single layer as encoder or decoder, we could instead use a stack of layers, such as:"
      ],
      "metadata": {
        "id": "vfdgxg8rpiLh"
      }
    },
    {
      "cell_type": "code",
      "source": [
        "model = tf.keras.models.Sequential()\n",
        "model.add()"
      ],
      "metadata": {
        "id": "cO2BHVdDqgtZ"
      },
      "execution_count": null,
      "outputs": []
    },
    {
      "cell_type": "code",
      "source": [
        "# functional form\n",
        "output = name_of_function(input_arg)"
      ],
      "metadata": {
        "id": "KE1VZK1Pq41R"
      },
      "execution_count": null,
      "outputs": []
    },
    {
      "cell_type": "code",
      "source": [
        "# model\n",
        "input_img = keras.Input(shape=(784,))\n",
        "\n",
        "# encode\n",
        "encoded = layers.Dense(128, activation='relu')(input_img)\n",
        "encoded = layers.Dense(64, activation='relu')(encoded)\n",
        "encoded = layers.Dense(32, activation='relu')(encoded)\n",
        "\n",
        "# decode\n",
        "decoded = layers.Dense(64, activation='relu')(encoded)\n",
        "decoded = layers.Dense(128, activation='relu')(decoded)\n",
        "decoded = layers.Dense(784, activation='sigmoid')(decoded)"
      ],
      "metadata": {
        "id": "hFfQ3o8n0x9Z"
      },
      "execution_count": null,
      "outputs": []
    },
    {
      "cell_type": "code",
      "source": [
        "# build model\n",
        "autoencoder = keras.Model(input_img, decoded)"
      ],
      "metadata": {
        "id": "7uf1vqItps8i"
      },
      "execution_count": null,
      "outputs": []
    },
    {
      "cell_type": "code",
      "source": [
        "# compile\n",
        "autoencoder.compile(optimizer='adam', loss='binary_crossentropy')"
      ],
      "metadata": {
        "id": "ZSNdxBQopwtx"
      },
      "execution_count": null,
      "outputs": []
    },
    {
      "cell_type": "code",
      "source": [
        "# train\n",
        "autoencoder.fit(x=x_train, y=x_train,\n",
        "                epochs=100,\n",
        "                batch_size=256,\n",
        "                shuffle=True,\n",
        "                validation_data=(x_test, x_test))"
      ],
      "metadata": {
        "colab": {
          "base_uri": "https://localhost:8080/"
        },
        "id": "Qg0uFw9op8Kh",
        "outputId": "0fb4578a-95b4-430e-934f-870b96061ec8"
      },
      "execution_count": null,
      "outputs": [
        {
          "output_type": "stream",
          "name": "stdout",
          "text": [
            "Epoch 1/100\n",
            "235/235 [==============================] - 4s 14ms/step - loss: 0.2522 - val_loss: 0.1726\n",
            "Epoch 2/100\n",
            "235/235 [==============================] - 3s 14ms/step - loss: 0.1554 - val_loss: 0.1388\n",
            "Epoch 3/100\n",
            "235/235 [==============================] - 3s 13ms/step - loss: 0.1327 - val_loss: 0.1257\n",
            "Epoch 4/100\n",
            "235/235 [==============================] - 3s 14ms/step - loss: 0.1231 - val_loss: 0.1180\n",
            "Epoch 5/100\n",
            "235/235 [==============================] - 3s 14ms/step - loss: 0.1171 - val_loss: 0.1133\n",
            "Epoch 6/100\n",
            "235/235 [==============================] - 3s 14ms/step - loss: 0.1128 - val_loss: 0.1092\n",
            "Epoch 7/100\n",
            "235/235 [==============================] - 3s 13ms/step - loss: 0.1089 - val_loss: 0.1062\n",
            "Epoch 8/100\n",
            "235/235 [==============================] - 3s 13ms/step - loss: 0.1061 - val_loss: 0.1038\n",
            "Epoch 9/100\n",
            "235/235 [==============================] - 3s 12ms/step - loss: 0.1039 - val_loss: 0.1017\n",
            "Epoch 10/100\n",
            "235/235 [==============================] - 3s 13ms/step - loss: 0.1019 - val_loss: 0.0998\n",
            "Epoch 11/100\n",
            "235/235 [==============================] - 3s 14ms/step - loss: 0.1002 - val_loss: 0.0987\n",
            "Epoch 12/100\n",
            "235/235 [==============================] - 3s 14ms/step - loss: 0.0989 - val_loss: 0.0971\n",
            "Epoch 13/100\n",
            "235/235 [==============================] - 3s 13ms/step - loss: 0.0977 - val_loss: 0.0965\n",
            "Epoch 14/100\n",
            "235/235 [==============================] - 3s 14ms/step - loss: 0.0968 - val_loss: 0.0955\n",
            "Epoch 15/100\n",
            "235/235 [==============================] - 3s 14ms/step - loss: 0.0959 - val_loss: 0.0945\n",
            "Epoch 16/100\n",
            "235/235 [==============================] - 3s 13ms/step - loss: 0.0951 - val_loss: 0.0940\n",
            "Epoch 17/100\n",
            "235/235 [==============================] - 3s 14ms/step - loss: 0.0944 - val_loss: 0.0930\n",
            "Epoch 18/100\n",
            "235/235 [==============================] - 3s 15ms/step - loss: 0.0937 - val_loss: 0.0923\n",
            "Epoch 19/100\n",
            "235/235 [==============================] - 3s 14ms/step - loss: 0.0932 - val_loss: 0.0919\n",
            "Epoch 20/100\n",
            "235/235 [==============================] - 4s 15ms/step - loss: 0.0925 - val_loss: 0.0915\n",
            "Epoch 21/100\n",
            "235/235 [==============================] - 4s 16ms/step - loss: 0.0920 - val_loss: 0.0909\n",
            "Epoch 22/100\n",
            "235/235 [==============================] - 3s 15ms/step - loss: 0.0916 - val_loss: 0.0905\n",
            "Epoch 23/100\n",
            "235/235 [==============================] - 3s 14ms/step - loss: 0.0911 - val_loss: 0.0899\n",
            "Epoch 24/100\n",
            "235/235 [==============================] - 3s 14ms/step - loss: 0.0906 - val_loss: 0.0899\n",
            "Epoch 25/100\n",
            "235/235 [==============================] - 3s 14ms/step - loss: 0.0903 - val_loss: 0.0893\n",
            "Epoch 26/100\n",
            "235/235 [==============================] - 3s 14ms/step - loss: 0.0898 - val_loss: 0.0887\n",
            "Epoch 27/100\n",
            "235/235 [==============================] - 3s 14ms/step - loss: 0.0895 - val_loss: 0.0886\n",
            "Epoch 28/100\n",
            "235/235 [==============================] - 3s 14ms/step - loss: 0.0891 - val_loss: 0.0883\n",
            "Epoch 29/100\n",
            "235/235 [==============================] - 3s 14ms/step - loss: 0.0888 - val_loss: 0.0879\n",
            "Epoch 30/100\n",
            "235/235 [==============================] - 3s 14ms/step - loss: 0.0885 - val_loss: 0.0877\n",
            "Epoch 31/100\n",
            "235/235 [==============================] - 3s 14ms/step - loss: 0.0882 - val_loss: 0.0875\n",
            "Epoch 32/100\n",
            "235/235 [==============================] - 3s 14ms/step - loss: 0.0880 - val_loss: 0.0869\n",
            "Epoch 33/100\n",
            "235/235 [==============================] - 3s 14ms/step - loss: 0.0877 - val_loss: 0.0869\n",
            "Epoch 34/100\n",
            "235/235 [==============================] - 3s 14ms/step - loss: 0.0874 - val_loss: 0.0868\n",
            "Epoch 35/100\n",
            "235/235 [==============================] - 4s 17ms/step - loss: 0.0872 - val_loss: 0.0867\n",
            "Epoch 36/100\n",
            "235/235 [==============================] - 3s 14ms/step - loss: 0.0870 - val_loss: 0.0864\n",
            "Epoch 37/100\n",
            "235/235 [==============================] - 3s 14ms/step - loss: 0.0868 - val_loss: 0.0864\n",
            "Epoch 38/100\n",
            "235/235 [==============================] - 3s 14ms/step - loss: 0.0865 - val_loss: 0.0862\n",
            "Epoch 39/100\n",
            "235/235 [==============================] - 3s 14ms/step - loss: 0.0863 - val_loss: 0.0857\n",
            "Epoch 40/100\n",
            "235/235 [==============================] - 3s 13ms/step - loss: 0.0861 - val_loss: 0.0858\n",
            "Epoch 41/100\n",
            "235/235 [==============================] - 3s 14ms/step - loss: 0.0860 - val_loss: 0.0854\n",
            "Epoch 42/100\n",
            "235/235 [==============================] - 3s 13ms/step - loss: 0.0858 - val_loss: 0.0852\n",
            "Epoch 43/100\n",
            "235/235 [==============================] - 3s 14ms/step - loss: 0.0856 - val_loss: 0.0848\n",
            "Epoch 44/100\n",
            "235/235 [==============================] - 3s 14ms/step - loss: 0.0854 - val_loss: 0.0847\n",
            "Epoch 45/100\n",
            "235/235 [==============================] - 3s 14ms/step - loss: 0.0853 - val_loss: 0.0847\n",
            "Epoch 46/100\n",
            "235/235 [==============================] - 3s 14ms/step - loss: 0.0851 - val_loss: 0.0847\n",
            "Epoch 47/100\n",
            "235/235 [==============================] - 3s 14ms/step - loss: 0.0850 - val_loss: 0.0844\n",
            "Epoch 48/100\n",
            "235/235 [==============================] - 3s 14ms/step - loss: 0.0849 - val_loss: 0.0847\n",
            "Epoch 49/100\n",
            "235/235 [==============================] - 3s 14ms/step - loss: 0.0848 - val_loss: 0.0843\n",
            "Epoch 50/100\n",
            "235/235 [==============================] - 3s 14ms/step - loss: 0.0847 - val_loss: 0.0841\n",
            "Epoch 51/100\n",
            "235/235 [==============================] - 4s 15ms/step - loss: 0.0846 - val_loss: 0.0841\n",
            "Epoch 52/100\n",
            "235/235 [==============================] - 3s 15ms/step - loss: 0.0844 - val_loss: 0.0841\n",
            "Epoch 53/100\n",
            "235/235 [==============================] - 3s 14ms/step - loss: 0.0844 - val_loss: 0.0837\n",
            "Epoch 54/100\n",
            "235/235 [==============================] - 3s 13ms/step - loss: 0.0843 - val_loss: 0.0838\n",
            "Epoch 55/100\n",
            "235/235 [==============================] - 3s 13ms/step - loss: 0.0841 - val_loss: 0.0837\n",
            "Epoch 56/100\n",
            "235/235 [==============================] - 3s 13ms/step - loss: 0.0840 - val_loss: 0.0838\n",
            "Epoch 57/100\n",
            "235/235 [==============================] - 3s 13ms/step - loss: 0.0840 - val_loss: 0.0836\n",
            "Epoch 58/100\n",
            "235/235 [==============================] - 3s 13ms/step - loss: 0.0839 - val_loss: 0.0836\n",
            "Epoch 59/100\n",
            "235/235 [==============================] - 3s 14ms/step - loss: 0.0838 - val_loss: 0.0834\n",
            "Epoch 60/100\n",
            "235/235 [==============================] - 3s 13ms/step - loss: 0.0837 - val_loss: 0.0833\n",
            "Epoch 61/100\n",
            "235/235 [==============================] - 3s 14ms/step - loss: 0.0836 - val_loss: 0.0832\n",
            "Epoch 62/100\n",
            "235/235 [==============================] - 3s 14ms/step - loss: 0.0836 - val_loss: 0.0834\n",
            "Epoch 63/100\n",
            "235/235 [==============================] - 3s 15ms/step - loss: 0.0835 - val_loss: 0.0830\n",
            "Epoch 64/100\n",
            "235/235 [==============================] - 3s 14ms/step - loss: 0.0835 - val_loss: 0.0829\n",
            "Epoch 65/100\n",
            "235/235 [==============================] - 3s 13ms/step - loss: 0.0834 - val_loss: 0.0830\n",
            "Epoch 66/100\n",
            "235/235 [==============================] - 3s 13ms/step - loss: 0.0834 - val_loss: 0.0829\n",
            "Epoch 67/100\n",
            "235/235 [==============================] - 3s 13ms/step - loss: 0.0833 - val_loss: 0.0827\n",
            "Epoch 68/100\n",
            "235/235 [==============================] - 3s 13ms/step - loss: 0.0832 - val_loss: 0.0828\n",
            "Epoch 69/100\n",
            "235/235 [==============================] - 3s 13ms/step - loss: 0.0832 - val_loss: 0.0831\n",
            "Epoch 70/100\n",
            "235/235 [==============================] - 3s 14ms/step - loss: 0.0831 - val_loss: 0.0827\n",
            "Epoch 71/100\n",
            "235/235 [==============================] - 3s 13ms/step - loss: 0.0830 - val_loss: 0.0829\n",
            "Epoch 72/100\n",
            "235/235 [==============================] - 3s 13ms/step - loss: 0.0830 - val_loss: 0.0827\n",
            "Epoch 73/100\n",
            "235/235 [==============================] - 3s 14ms/step - loss: 0.0830 - val_loss: 0.0827\n",
            "Epoch 74/100\n",
            "235/235 [==============================] - 3s 13ms/step - loss: 0.0829 - val_loss: 0.0825\n",
            "Epoch 75/100\n",
            "235/235 [==============================] - 3s 14ms/step - loss: 0.0829 - val_loss: 0.0828\n",
            "Epoch 76/100\n",
            "235/235 [==============================] - 3s 14ms/step - loss: 0.0828 - val_loss: 0.0824\n",
            "Epoch 77/100\n",
            "235/235 [==============================] - 3s 14ms/step - loss: 0.0827 - val_loss: 0.0823\n",
            "Epoch 78/100\n",
            "235/235 [==============================] - 3s 13ms/step - loss: 0.0827 - val_loss: 0.0822\n",
            "Epoch 79/100\n",
            "235/235 [==============================] - 3s 13ms/step - loss: 0.0827 - val_loss: 0.0827\n",
            "Epoch 80/100\n",
            "235/235 [==============================] - 3s 13ms/step - loss: 0.0827 - val_loss: 0.0828\n",
            "Epoch 81/100\n",
            "235/235 [==============================] - 3s 14ms/step - loss: 0.0826 - val_loss: 0.0823\n",
            "Epoch 82/100\n",
            "235/235 [==============================] - 3s 13ms/step - loss: 0.0826 - val_loss: 0.0824\n",
            "Epoch 83/100\n",
            "235/235 [==============================] - 3s 13ms/step - loss: 0.0825 - val_loss: 0.0822\n",
            "Epoch 84/100\n",
            "235/235 [==============================] - 3s 14ms/step - loss: 0.0825 - val_loss: 0.0820\n",
            "Epoch 85/100\n",
            "235/235 [==============================] - 3s 14ms/step - loss: 0.0824 - val_loss: 0.0822\n",
            "Epoch 86/100\n",
            "235/235 [==============================] - 3s 14ms/step - loss: 0.0824 - val_loss: 0.0822\n",
            "Epoch 87/100\n",
            "235/235 [==============================] - 3s 14ms/step - loss: 0.0823 - val_loss: 0.0825\n",
            "Epoch 88/100\n",
            "235/235 [==============================] - 3s 13ms/step - loss: 0.0823 - val_loss: 0.0818\n",
            "Epoch 89/100\n",
            "235/235 [==============================] - 3s 13ms/step - loss: 0.0823 - val_loss: 0.0822\n",
            "Epoch 90/100\n",
            "235/235 [==============================] - 3s 14ms/step - loss: 0.0823 - val_loss: 0.0821\n",
            "Epoch 91/100\n",
            "235/235 [==============================] - 3s 14ms/step - loss: 0.0823 - val_loss: 0.0822\n",
            "Epoch 92/100\n",
            "235/235 [==============================] - 3s 14ms/step - loss: 0.0822 - val_loss: 0.0820\n",
            "Epoch 93/100\n",
            "235/235 [==============================] - 3s 14ms/step - loss: 0.0822 - val_loss: 0.0820\n",
            "Epoch 94/100\n",
            "235/235 [==============================] - 3s 14ms/step - loss: 0.0821 - val_loss: 0.0817\n",
            "Epoch 95/100\n",
            "235/235 [==============================] - 3s 13ms/step - loss: 0.0821 - val_loss: 0.0821\n",
            "Epoch 96/100\n",
            "235/235 [==============================] - 3s 14ms/step - loss: 0.0820 - val_loss: 0.0817\n",
            "Epoch 97/100\n",
            "235/235 [==============================] - 3s 14ms/step - loss: 0.0820 - val_loss: 0.0818\n",
            "Epoch 98/100\n",
            "235/235 [==============================] - 3s 13ms/step - loss: 0.0820 - val_loss: 0.0816\n",
            "Epoch 99/100\n",
            "235/235 [==============================] - 3s 14ms/step - loss: 0.0820 - val_loss: 0.0818\n",
            "Epoch 100/100\n",
            "235/235 [==============================] - 3s 13ms/step - loss: 0.0819 - val_loss: 0.0819\n"
          ]
        },
        {
          "output_type": "execute_result",
          "data": {
            "text/plain": [
              "<keras.callbacks.History at 0x7f34deb9b110>"
            ]
          },
          "metadata": {},
          "execution_count": 13
        }
      ]
    },
    {
      "cell_type": "code",
      "source": [
        "# predict\n",
        "decoded_imgs = autoencoder.predict(x_test)\n",
        "decoded_imgs.shape"
      ],
      "metadata": {
        "colab": {
          "base_uri": "https://localhost:8080/"
        },
        "id": "YRK1UsZ5qdJw",
        "outputId": "1f4c7147-78dd-42f8-adda-525bafa910a4"
      },
      "execution_count": null,
      "outputs": [
        {
          "output_type": "execute_result",
          "data": {
            "text/plain": [
              "(10000, 784)"
            ]
          },
          "metadata": {},
          "execution_count": 14
        }
      ]
    },
    {
      "cell_type": "code",
      "source": [
        "# Use Matplotlib (don't ask)\n",
        "n = 10  # How many digits we will display\n",
        "plt.figure(figsize=(20, 4))\n",
        "for i in range(n):\n",
        "    # Display original\n",
        "    ax = plt.subplot(2, n, i + 1)\n",
        "    plt.imshow(x_test[i].reshape(28, 28))\n",
        "    plt.gray()\n",
        "    ax.get_xaxis().set_visible(False)\n",
        "    ax.get_yaxis().set_visible(False)\n",
        "\n",
        "    # Display reconstruction\n",
        "    ax = plt.subplot(2, n, i + 1 + n)\n",
        "    plt.imshow(decoded_imgs[i].reshape(28, 28))\n",
        "    plt.gray()\n",
        "    ax.get_xaxis().set_visible(False)\n",
        "    ax.get_yaxis().set_visible(False)\n",
        "plt.show()"
      ],
      "metadata": {
        "colab": {
          "base_uri": "https://localhost:8080/",
          "height": 248
        },
        "id": "iDhpfRK7p9mQ",
        "outputId": "9b181857-243a-46fc-b529-af6aa8d65aff"
      },
      "execution_count": null,
      "outputs": [
        {
          "output_type": "display_data",
          "data": {
            "text/plain": [
              "<Figure size 1440x288 with 20 Axes>"
            ],
            "image/png": "[encoded data removed]"
          },
          "metadata": {
            "needs_background": "light"
          }
        }
      ]
    }
  ]
}